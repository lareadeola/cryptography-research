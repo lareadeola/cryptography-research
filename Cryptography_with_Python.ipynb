{
  "nbformat": 4,
  "nbformat_minor": 0,
  "metadata": {
    "colab": {
      "provenance": [],
      "authorship_tag": "ABX9TyNMxuMfZoP76kmazT/LnyL2",
      "include_colab_link": true
    },
    "kernelspec": {
      "name": "python3",
      "display_name": "Python 3"
    },
    "language_info": {
      "name": "python"
    }
  },
  "cells": [
    {
      "cell_type": "markdown",
      "metadata": {
        "id": "view-in-github",
        "colab_type": "text"
      },
      "source": [
        "<a href=\"https://colab.research.google.com/github/lareadeola/cryptography-research/blob/main/Cryptography_with_Python.ipynb\" target=\"_parent\"><img src=\"https://colab.research.google.com/assets/colab-badge.svg\" alt=\"Open In Colab\"/></a>"
      ]
    },
    {
      "cell_type": "markdown",
      "source": [
        "Caesar Cipher"
      ],
      "metadata": {
        "id": "Ce0KMca5iPyL"
      }
    },
    {
      "cell_type": "code",
      "execution_count": null,
      "metadata": {
        "id": "jb7HHtjAUVAO"
      },
      "outputs": [],
      "source": [
        "class CaesarCipher:\n",
        "  def __init__(self, shift:int):\n",
        "    self.shift = shift\n",
        "    self.alphabet = 'abcdefghijklmnopqrstuvwxyz'\n",
        "\n",
        "  def encrypt(self, text:str):\n",
        "    self.text = text.lower()\n",
        "    encrypted = ''\n",
        "    for char in range(0, len(self.text)):\n",
        "      character = self.text[char]\n",
        "      location = self.alphabet.find(character)\n",
        "      new_location = (location + self.shift)%len(self.alphabet)\n",
        "      encrypted += self.alphabet[new_location]\n",
        "    return encrypted"
      ]
    },
    {
      "cell_type": "code",
      "source": [
        "cipher = CaesarCipher(shift=10)\n",
        "message = cipher.encrypt('Lare')\n",
        "print(f'Encrypted: {message}')"
      ],
      "metadata": {
        "colab": {
          "base_uri": "https://localhost:8080/"
        },
        "id": "66JFNJiHjiyF",
        "outputId": "160a2b05-30d3-48fa-b87f-0b4c95376d07"
      },
      "execution_count": null,
      "outputs": [
        {
          "output_type": "stream",
          "name": "stdout",
          "text": [
            "Encrypted: vkbo\n"
          ]
        }
      ]
    },
    {
      "cell_type": "code",
      "source": [],
      "metadata": {
        "id": "gz43J56nVVpd"
      },
      "execution_count": null,
      "outputs": []
    },
    {
      "cell_type": "code",
      "source": [],
      "metadata": {
        "id": "JYBz1X_NVVv0"
      },
      "execution_count": null,
      "outputs": []
    },
    {
      "cell_type": "code",
      "source": [],
      "metadata": {
        "id": "7nYCfPaiVV36"
      },
      "execution_count": null,
      "outputs": []
    },
    {
      "cell_type": "code",
      "source": [],
      "metadata": {
        "id": "AsDU35CoVV_3"
      },
      "execution_count": null,
      "outputs": []
    },
    {
      "cell_type": "code",
      "source": [],
      "metadata": {
        "id": "wg_AQD9YVWH5"
      },
      "execution_count": null,
      "outputs": []
    },
    {
      "cell_type": "code",
      "source": [],
      "metadata": {
        "id": "K1_gVa3bVWPe"
      },
      "execution_count": null,
      "outputs": []
    },
    {
      "cell_type": "code",
      "source": [],
      "metadata": {
        "id": "aZxzXa9LVWXd"
      },
      "execution_count": null,
      "outputs": []
    },
    {
      "cell_type": "code",
      "source": [],
      "metadata": {
        "id": "PyYy42pEVWet"
      },
      "execution_count": null,
      "outputs": []
    },
    {
      "cell_type": "code",
      "source": [
        "import random\n",
        "\n",
        "class CustomCipher:\n",
        "  def __init__(self, key=None):\n",
        "    self.key = key or self.generate_key()\n",
        "\n",
        "  def generate_key(self):\n",
        "    return random.randint(1, 255)\n",
        "\n",
        "  def encrypt(self, text):\n",
        "    encrypted = []\n",
        "    for char in text:\n",
        "      encrypted_char = (ord(char) ^ self.key) << 1\n",
        "      encrypted.append(encrypted_char)\n",
        "    return encrypted\n",
        "\n",
        "  def decrypt(self, encrypted):\n",
        "    decrypted = ''\n",
        "    for num in encrypted:\n",
        "      decrypted_char = chr((num >> 1) ^ self.key)\n",
        "      decrypted += decrypted_char\n",
        "    return decrypted"
      ],
      "metadata": {
        "id": "QNU-RBOWVWm7"
      },
      "execution_count": null,
      "outputs": []
    },
    {
      "cell_type": "code",
      "source": [
        "cipher = CustomCipher()\n",
        "key = cipher.key\n",
        "message = 'Lare Adeola'\n",
        "encrypted_text = cipher.encrypt(message)\n",
        "decrypted_text = cipher.decrypt(encrypted_text)\n",
        "print(f'Key: {key}')\n",
        "print(f'Encrypted: {encrypted_text}')\n",
        "print(f'Encrypted: {decrypted_text}')"
      ],
      "metadata": {
        "colab": {
          "base_uri": "https://localhost:8080/"
        },
        "id": "I5uvSeQMalri",
        "outputId": "e2ad1d91-b666-4561-ce32-1f09097d50a4"
      },
      "execution_count": null,
      "outputs": [
        {
          "output_type": "stream",
          "name": "stdout",
          "text": [
            "Key: 146\n",
            "Encrypted: [444, 486, 448, 494, 356, 422, 492, 494, 506, 508, 486]\n",
            "Encrypted: Lare Adeola\n"
          ]
        }
      ]
    },
    {
      "cell_type": "code",
      "source": [
        "cipher = CustomCipher()\n",
        "key = cipher.key\n",
        "message = 'Lare Samuel'\n",
        "encrypted_text = cipher.encrypt(message)\n",
        "decrypted_text = cipher.decrypt(encrypted_text)\n",
        "print(f'Key: {key}')\n",
        "print(f'Encrypted: {encrypted_text}')\n",
        "print(f'Encrypted: {decrypted_text}')"
      ],
      "metadata": {
        "colab": {
          "base_uri": "https://localhost:8080/"
        },
        "id": "0vs8Qb_AayEG",
        "outputId": "67b524a3-88dc-47fe-99ac-ea8edd0249c9"
      },
      "execution_count": null,
      "outputs": [
        {
          "output_type": "stream",
          "name": "stdout",
          "text": [
            "Key: 239\n",
            "Encrypted: [326, 284, 314, 276, 414, 376, 284, 260, 308, 276, 262]\n",
            "Encrypted: Lare Samuel\n"
          ]
        }
      ]
    },
    {
      "cell_type": "code",
      "source": [
        "import random\n",
        "\n",
        "class CustomCipher:\n",
        "    def __init__(self, key=None):\n",
        "        self.key = key or self.generate_key()\n",
        "\n",
        "    def generate_key(self):\n",
        "        return random.randint(1, 255)  # 8-bit key\n",
        "\n",
        "    def encrypt(self, text):\n",
        "        encrypted = []\n",
        "        for char in text:\n",
        "            encrypted_char = (ord(char) ^ self.key) << 1  # XOR + Shift left\n",
        "            encrypted.append(encrypted_char)\n",
        "        return encrypted\n",
        "\n",
        "    def decrypt(self, encrypted):\n",
        "        decrypted = \"\"\n",
        "        for num in encrypted:\n",
        "            decrypted_char = chr((num >> 1) ^ self.key)  # Shift right + XOR\n",
        "            decrypted += decrypted_char\n",
        "        return decrypted\n",
        "\n",
        "# Example Usage\n",
        "cipher = CustomCipher()\n",
        "key = cipher.key\n",
        "message = \"Hello, World!\"\n",
        "encrypted_text = cipher.encrypt(message)\n",
        "decrypted_text = cipher.decrypt(encrypted_text)\n",
        "\n",
        "print(f\"Key: {key}\")\n",
        "print(f\"Encrypted: {encrypted_text}\")\n",
        "print(f\"Decrypted: {decrypted_text}\")\n"
      ],
      "metadata": {
        "colab": {
          "base_uri": "https://localhost:8080/"
        },
        "id": "4h-_lOpVVWvd",
        "outputId": "cb75c9c8-796d-4f02-d77d-4431026f3ae8"
      },
      "execution_count": null,
      "outputs": [
        {
          "output_type": "stream",
          "name": "stdout",
          "text": [
            "Key: 94\n",
            "Encrypted: [44, 118, 100, 100, 98, 228, 252, 18, 98, 88, 100, 116, 254]\n",
            "Decrypted: Hello, World!\n"
          ]
        }
      ]
    },
    {
      "cell_type": "code",
      "source": [
        "print(65 ^ 32)"
      ],
      "metadata": {
        "colab": {
          "base_uri": "https://localhost:8080/"
        },
        "id": "vuZL6MOoV_0t",
        "outputId": "4800d342-a482-4773-8e70-ce703cb294c6"
      },
      "execution_count": null,
      "outputs": [
        {
          "output_type": "stream",
          "name": "stdout",
          "text": [
            "97\n"
          ]
        }
      ]
    }
  ]
}